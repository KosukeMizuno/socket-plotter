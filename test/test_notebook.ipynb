{
 "cells": [
  {
   "cell_type": "code",
   "execution_count": 1,
   "metadata": {},
   "outputs": [
    {
     "data": {
      "text/plain": [
       "'0.1.4'"
      ]
     },
     "execution_count": 1,
     "metadata": {},
     "output_type": "execute_result"
    }
   ],
   "source": [
    "import socket_plotter\n",
    "\n",
    "socket_plotter.__version__\n"
   ]
  },
  {
   "cell_type": "code",
   "execution_count": null,
   "metadata": {},
   "outputs": [],
   "source": []
  },
  {
   "cell_type": "markdown",
   "metadata": {},
   "source": [
    "# via default api"
   ]
  },
  {
   "cell_type": "code",
   "execution_count": 2,
   "metadata": {},
   "outputs": [],
   "source": [
    "from socket_plotter import plot_lines, plot_image, plot_image_and_lines\n",
    "import numpy as np\n"
   ]
  },
  {
   "cell_type": "code",
   "execution_count": 3,
   "metadata": {},
   "outputs": [],
   "source": [
    "# for line plot\n",
    "xdata = np.arange(100)\n",
    "ydata = np.random.randn(100)\n",
    "plot_lines(xdata, ydata)\n"
   ]
  },
  {
   "cell_type": "code",
   "execution_count": 4,
   "metadata": {},
   "outputs": [],
   "source": [
    "# for image plot\n",
    "img = np.random.randn(100, 100)\n",
    "plot_image(img)\n"
   ]
  },
  {
   "cell_type": "code",
   "execution_count": 5,
   "metadata": {},
   "outputs": [],
   "source": [
    "# for both, the image and each row of the image are displayed.\n",
    "img = np.random.randn(100, 100)\n",
    "plot_image_and_lines(img)\n"
   ]
  },
  {
   "cell_type": "code",
   "execution_count": null,
   "metadata": {},
   "outputs": [],
   "source": []
  },
  {
   "cell_type": "markdown",
   "metadata": {},
   "source": [
    "# via json communication"
   ]
  },
  {
   "cell_type": "code",
   "execution_count": 6,
   "metadata": {},
   "outputs": [],
   "source": [
    "import socket\n",
    "import json\n",
    "\n",
    "from socket_plotter.api import (\n",
    "    _ping_or_launch_imageplotter,\n",
    "    _ping_or_launch_lineplotter,\n",
    "    DEFAULT_ADDR,\n",
    "    DEFAULT_PORT_LINEPLOTTER,\n",
    "    DEFAULT_PORT_IMAGEPLOTTER,\n",
    ")\n",
    "import numpy as np\n"
   ]
  },
  {
   "cell_type": "code",
   "execution_count": 7,
   "metadata": {},
   "outputs": [],
   "source": [
    "# test lineplotter\n",
    "_ping_or_launch_lineplotter(DEFAULT_ADDR, DEFAULT_PORT_LINEPLOTTER)\n",
    "with socket.socket(socket.AF_INET, socket.SOCK_STREAM) as s:\n",
    "    s.connect((DEFAULT_ADDR, DEFAULT_PORT_LINEPLOTTER))\n",
    "\n",
    "    v = list(np.random.randn(1000))\n",
    "\n",
    "    data = json.dumps([v]).encode(\"utf-8\")\n",
    "    header = json.dumps({\"size\": len(data), \"type\": \"data_json\"}).encode(\"utf-8\")\n",
    "\n",
    "    s.send(header)\n",
    "    _ = s.recv(2048)\n",
    "    s.sendall(data)\n"
   ]
  },
  {
   "cell_type": "code",
   "execution_count": 8,
   "metadata": {},
   "outputs": [],
   "source": [
    "# test imageplotter\n",
    "_ping_or_launch_imageplotter(DEFAULT_ADDR, DEFAULT_PORT_IMAGEPLOTTER)\n",
    "with socket.socket(socket.AF_INET, socket.SOCK_STREAM) as s:\n",
    "    s.connect((DEFAULT_ADDR, DEFAULT_PORT_IMAGEPLOTTER))\n",
    "\n",
    "    v = np.random.randn(100, 100).tolist()\n",
    "\n",
    "    data = json.dumps(v).encode(\"utf-8\")\n",
    "    header = json.dumps({\"size\": len(data), \"type\": \"data_json\"}).encode(\"utf-8\")\n",
    "\n",
    "    s.send(header)\n",
    "    _ = s.recv(2048)\n",
    "    s.sendall(data)\n"
   ]
  },
  {
   "cell_type": "code",
   "execution_count": null,
   "metadata": {},
   "outputs": [],
   "source": []
  }
 ],
 "metadata": {
  "kernelspec": {
   "display_name": "Python 3.8.10 ('.venv': venv)",
   "language": "python",
   "name": "python3"
  },
  "language_info": {
   "codemirror_mode": {
    "name": "ipython",
    "version": 3
   },
   "file_extension": ".py",
   "mimetype": "text/x-python",
   "name": "python",
   "nbconvert_exporter": "python",
   "pygments_lexer": "ipython3",
   "version": "3.8.10"
  },
  "orig_nbformat": 4,
  "vscode": {
   "interpreter": {
    "hash": "c13dbe15503cef12522d37e705309056a16e36d298c3b9ac4a1bf41b153c9899"
   }
  }
 },
 "nbformat": 4,
 "nbformat_minor": 2
}
