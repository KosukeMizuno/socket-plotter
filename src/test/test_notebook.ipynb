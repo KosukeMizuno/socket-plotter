{
 "cells": [
  {
   "cell_type": "code",
   "execution_count": 1,
   "metadata": {},
   "outputs": [],
   "source": [
    "from socket_plotter import plot_lines, plot_image, plot_image_and_lines\n",
    "import numpy as np"
   ]
  },
  {
   "cell_type": "code",
   "execution_count": 3,
   "metadata": {},
   "outputs": [],
   "source": [
    "# for line plot\n",
    "xdata = np.arange(100)\n",
    "ydata = np.random.randn(100)\n",
    "plot_lines(xdata, ydata)"
   ]
  },
  {
   "cell_type": "code",
   "execution_count": 4,
   "metadata": {},
   "outputs": [],
   "source": [
    "# for image plot\n",
    "img = np.random.randn(100, 100)\n",
    "plot_image(img)"
   ]
  },
  {
   "cell_type": "code",
   "execution_count": 5,
   "metadata": {},
   "outputs": [],
   "source": [
    "# for both, the image and each row of the image are displayed.\n",
    "img = np.random.randn(100, 100)\n",
    "plot_image_and_lines(img)"
   ]
  },
  {
   "cell_type": "code",
   "execution_count": null,
   "metadata": {},
   "outputs": [],
   "source": []
  }
 ],
 "metadata": {
  "kernelspec": {
   "display_name": "Python 3.8.10 ('.venv': venv)",
   "language": "python",
   "name": "python3"
  },
  "language_info": {
   "codemirror_mode": {
    "name": "ipython",
    "version": 3
   },
   "file_extension": ".py",
   "mimetype": "text/x-python",
   "name": "python",
   "nbconvert_exporter": "python",
   "pygments_lexer": "ipython3",
   "version": "3.8.10"
  },
  "orig_nbformat": 4,
  "vscode": {
   "interpreter": {
    "hash": "c13dbe15503cef12522d37e705309056a16e36d298c3b9ac4a1bf41b153c9899"
   }
  }
 },
 "nbformat": 4,
 "nbformat_minor": 2
}
